{
  "cells": [
    {
      "cell_type": "markdown",
      "metadata": {
        "id": "view-in-github",
        "colab_type": "text"
      },
      "source": [
        "<a href=\"https://colab.research.google.com/github/Divyansh-Bari/Sentiment-Analysis-using-RoBERTa/blob/main/Ukraine_Russia_Twitter_Data.ipynb\" target=\"_parent\"><img src=\"https://colab.research.google.com/assets/colab-badge.svg\" alt=\"Open In Colab\"/></a>"
      ]
    },
    {
      "cell_type": "code",
      "execution_count": 2,
      "metadata": {
        "colab": {
          "base_uri": "https://localhost:8080/"
        },
        "id": "qUvyKrNm7kfU",
        "outputId": "35fdb8d4-133f-4b7a-e4a0-6edc72ce9b81"
      },
      "outputs": [
        {
          "output_type": "stream",
          "name": "stdout",
          "text": [
            "Requirement already satisfied: nest_asyncio in /usr/local/lib/python3.11/dist-packages (1.6.0)\n",
            "Requirement already satisfied: twikit in /usr/local/lib/python3.11/dist-packages (2.3.3)\n",
            "Requirement already satisfied: httpx[socks] in /usr/local/lib/python3.11/dist-packages (from twikit) (0.28.1)\n",
            "Requirement already satisfied: filetype in /usr/local/lib/python3.11/dist-packages (from twikit) (1.2.0)\n",
            "Requirement already satisfied: beautifulsoup4 in /usr/local/lib/python3.11/dist-packages (from twikit) (4.13.3)\n",
            "Requirement already satisfied: pyotp in /usr/local/lib/python3.11/dist-packages (from twikit) (2.9.0)\n",
            "Requirement already satisfied: lxml in /usr/local/lib/python3.11/dist-packages (from twikit) (5.3.1)\n",
            "Requirement already satisfied: webvtt-py in /usr/local/lib/python3.11/dist-packages (from twikit) (0.5.1)\n",
            "Requirement already satisfied: m3u8 in /usr/local/lib/python3.11/dist-packages (from twikit) (6.0.0)\n",
            "Requirement already satisfied: Js2Py-3.13 in /usr/local/lib/python3.11/dist-packages (from twikit) (0.74.1)\n",
            "Requirement already satisfied: soupsieve>1.2 in /usr/local/lib/python3.11/dist-packages (from beautifulsoup4->twikit) (2.6)\n",
            "Requirement already satisfied: typing-extensions>=4.0.0 in /usr/local/lib/python3.11/dist-packages (from beautifulsoup4->twikit) (4.13.0)\n",
            "Requirement already satisfied: anyio in /usr/local/lib/python3.11/dist-packages (from httpx[socks]->twikit) (4.9.0)\n",
            "Requirement already satisfied: certifi in /usr/local/lib/python3.11/dist-packages (from httpx[socks]->twikit) (2025.1.31)\n",
            "Requirement already satisfied: httpcore==1.* in /usr/local/lib/python3.11/dist-packages (from httpx[socks]->twikit) (1.0.7)\n",
            "Requirement already satisfied: idna in /usr/local/lib/python3.11/dist-packages (from httpx[socks]->twikit) (3.10)\n",
            "Requirement already satisfied: socksio==1.* in /usr/local/lib/python3.11/dist-packages (from httpx[socks]->twikit) (1.0.0)\n",
            "Requirement already satisfied: h11<0.15,>=0.13 in /usr/local/lib/python3.11/dist-packages (from httpcore==1.*->httpx[socks]->twikit) (0.14.0)\n",
            "Requirement already satisfied: tzlocal>=1.2 in /usr/local/lib/python3.11/dist-packages (from Js2Py-3.13->twikit) (5.3.1)\n",
            "Requirement already satisfied: six>=1.10 in /usr/local/lib/python3.11/dist-packages (from Js2Py-3.13->twikit) (1.17.0)\n",
            "Requirement already satisfied: pyjsparser>=2.5.1 in /usr/local/lib/python3.11/dist-packages (from Js2Py-3.13->twikit) (2.7.1)\n",
            "Requirement already satisfied: sniffio>=1.1 in /usr/local/lib/python3.11/dist-packages (from anyio->httpx[socks]->twikit) (1.3.1)\n",
            "In order to protect your account from suspicious activity, we've sent a confirmation code to di******************@g****.***. Enter it below to sign in.\t\n",
            ">>> 4gwga9e5\n",
            "2025-04-05 07:36:19.007289 - Getting tweets...\n",
            "2025-04-05 07:36:20.443864 - Got 19 tweets\n",
            "2025-04-05 07:36:20.443957 - Getting next tweets after 5 seconds ...\n",
            "2025-04-05 07:36:26.798014 - Got 39 tweets\n",
            "2025-04-05 07:36:26.798107 - Getting next tweets after 8 seconds ...\n",
            "2025-04-05 07:36:36.326743 - Got 59 tweets\n",
            "2025-04-05 07:36:36.326840 - Getting next tweets after 10 seconds ...\n",
            "2025-04-05 07:36:47.668191 - Got 79 tweets\n",
            "2025-04-05 07:36:47.668288 - Getting next tweets after 8 seconds ...\n",
            "2025-04-05 07:36:57.155598 - Got 99 tweets\n",
            "2025-04-05 07:36:57.155701 - Getting next tweets after 6 seconds ...\n",
            "2025-04-05 07:37:04.274952 - Got 119 tweets\n",
            "2025-04-05 07:37:04.275304 - Done! Got 119 tweets found\n"
          ]
        }
      ],
      "source": [
        "!pip install nest_asyncio twikit\n",
        "\n",
        "import asyncio\n",
        "import nest_asyncio\n",
        "from twikit import Client, TooManyRequests\n",
        "import time\n",
        "from datetime import datetime\n",
        "import csv\n",
        "from configparser import ConfigParser\n",
        "from random import randint\n",
        "\n",
        "# Apply nest_asyncio to avoid RuntimeError in Colab\n",
        "nest_asyncio.apply()\n",
        "\n",
        "MINIMUM_TWEETS = 100\n",
        "QUERY = 'Ukraine-Russia War lang:en until:2025-04-01 since:2025-01-01'\n",
        "\n",
        "\n",
        "async def get_tweets(client, tweets):\n",
        "    if tweets is None:\n",
        "        print(f'{datetime.now()} - Getting tweets...')\n",
        "        tweets = await client.search_tweet(QUERY, product='Top')\n",
        "    else:\n",
        "        wait_time = randint(5, 10)\n",
        "        print(f'{datetime.now()} - Getting next tweets after {wait_time} seconds ...')\n",
        "        time.sleep(wait_time)\n",
        "        tweets = await tweets.next()\n",
        "\n",
        "    return tweets\n",
        "\n",
        "\n",
        "async def main():\n",
        "    config = ConfigParser()\n",
        "    config.read('config.ini')\n",
        "    username = config['X']['username']\n",
        "    email = config['X']['email']\n",
        "    password = config['X']['password']\n",
        "\n",
        "    with open('tweets.csv', 'w', newline='') as file:\n",
        "        writer = csv.writer(file)\n",
        "        writer.writerow(['Tweet_count', 'Username', 'Text', 'Created At', 'Retweets', 'Likes'])\n",
        "\n",
        "    client = Client(language='en-US')\n",
        "    await client.login(auth_info_1=username, auth_info_2=email, password=password)\n",
        "    client.save_cookies('cookies.json')\n",
        "    client.load_cookies('cookies.json')\n",
        "\n",
        "    tweet_count = 0\n",
        "    tweets = None\n",
        "\n",
        "    while tweet_count < MINIMUM_TWEETS:\n",
        "        try:\n",
        "            tweets = await get_tweets(client, tweets)\n",
        "        except TooManyRequests as e:\n",
        "            rate_limit_reset = datetime.fromtimestamp(e.rate_limit_reset)\n",
        "            print(f'{datetime.now()} - Rate limit reached. Waiting until {rate_limit_reset}')\n",
        "            wait_time = (rate_limit_reset - datetime.now()).total_seconds()\n",
        "            time.sleep(wait_time)\n",
        "            continue\n",
        "\n",
        "        if not tweets:\n",
        "            print(f'{datetime.now()} - No more tweets found')\n",
        "            break\n",
        "\n",
        "        for tweet in tweets:\n",
        "            tweet_count += 1\n",
        "            tweet_data = [tweet_count, tweet.user.name, tweet.text, tweet.created_at, tweet.retweet_count, tweet.favorite_count]\n",
        "\n",
        "            with open('tweets.csv', 'a', newline='') as file:\n",
        "                writer = csv.writer(file)\n",
        "                writer.writerow(tweet_data)\n",
        "\n",
        "        print(f'{datetime.now()} - Got {tweet_count} tweets')\n",
        "\n",
        "    print(f'{datetime.now()} - Done! Got {tweet_count} tweets found')\n",
        "\n",
        "\n",
        "# ✅ Run the async function in Colab\n",
        "loop = asyncio.get_event_loop()\n",
        "loop.run_until_complete(main())\n"
      ]
    },
    {
      "cell_type": "code",
      "execution_count": null,
      "metadata": {
        "id": "ms_d_XAT8GP6"
      },
      "outputs": [],
      "source": []
    }
  ],
  "metadata": {
    "colab": {
      "provenance": [],
      "authorship_tag": "ABX9TyP4r4yC/4VJntOvNoHxEnxC",
      "include_colab_link": true
    },
    "kernelspec": {
      "display_name": "Python 3",
      "name": "python3"
    },
    "language_info": {
      "name": "python"
    }
  },
  "nbformat": 4,
  "nbformat_minor": 0
}